{
 "cells": [
  {
   "cell_type": "markdown",
   "metadata": {
    "deletable": true,
    "editable": true
   },
   "source": [
    "# Simple Convnet - MNIST\n",
    "\n",
    "Slightly modified from mnist_cnn.py in the Keras examples folder:\n",
    "\n",
    "https://github.com/fchollet/keras/blob/master/examples/mnist_cnn.py"
   ]
  },
  {
   "cell_type": "code",
   "execution_count": 1,
   "metadata": {
    "collapsed": true,
    "deletable": true,
    "editable": true
   },
   "outputs": [],
   "source": [
    "WEIGHTS_FILEPATH = 'mnist_cnn.hdf5'\n",
    "MODEL_ARCH_FILEPATH = 'mnist_cnn.json'"
   ]
  },
  {
   "cell_type": "code",
   "execution_count": 2,
   "metadata": {
    "collapsed": false,
    "deletable": true,
    "editable": true
   },
   "outputs": [
    {
     "name": "stderr",
     "output_type": "stream",
     "text": [
      "Using TensorFlow backend.\n"
     ]
    }
   ],
   "source": [
    "import numpy as np\n",
    "np.random.seed(1337)  # for reproducibility\n",
    "\n",
    "from keras.datasets import mnist\n",
    "from keras.models import Sequential\n",
    "from keras.layers import Dense, Dropout, Flatten, Activation\n",
    "from keras.layers import Conv2D, MaxPooling2D\n",
    "from keras.utils import np_utils\n",
    "from keras.callbacks import EarlyStopping, ModelCheckpoint"
   ]
  },
  {
   "cell_type": "code",
   "execution_count": 3,
   "metadata": {
    "collapsed": false,
    "deletable": true,
    "editable": true
   },
   "outputs": [
    {
     "name": "stdout",
     "output_type": "stream",
     "text": [
      "x_train shape: (60000, 28, 28, 1)\n",
      "60000 train samples\n",
      "10000 test samples\n"
     ]
    }
   ],
   "source": [
    "num_classes = 10\n",
    "\n",
    "# input image dimensions\n",
    "img_rows, img_cols = 28, 28\n",
    "\n",
    "# the data, shuffled and split between train and test sets\n",
    "(x_train, y_train), (x_test, y_test) = mnist.load_data()\n",
    "\n",
    "x_train = x_train.reshape(x_train.shape[0], img_rows, img_cols, 1)\n",
    "x_test = x_test.reshape(x_test.shape[0], img_rows, img_cols, 1)\n",
    "input_shape = (img_rows, img_cols, 1)\n",
    "\n",
    "x_train = x_train.astype('float32')\n",
    "x_test = x_test.astype('float32')\n",
    "x_train /= 255\n",
    "x_test /= 255\n",
    "print('x_train shape:', x_train.shape)\n",
    "print(x_train.shape[0], 'train samples')\n",
    "print(x_test.shape[0], 'test samples')\n",
    "\n",
    "# convert class vectors to binary class matrices\n",
    "y_train = np_utils.to_categorical(y_train, num_classes)\n",
    "y_test = np_utils.to_categorical(y_test, num_classes)"
   ]
  },
  {
   "cell_type": "code",
   "execution_count": 4,
   "metadata": {
    "collapsed": true,
    "deletable": true,
    "editable": true
   },
   "outputs": [],
   "source": [
    "# Sequential Model\n",
    "\n",
    "model = Sequential()\n",
    "model.add(Conv2D(32, (3, 3), input_shape=input_shape))\n",
    "model.add(Activation('relu'))\n",
    "model.add(Conv2D(32, (3, 3)))\n",
    "model.add(Activation('relu'))\n",
    "model.add(MaxPooling2D(pool_size=(2, 2)))\n",
    "model.add(Dropout(0.25))\n",
    "model.add(Flatten())\n",
    "model.add(Dense(128))\n",
    "model.add(Activation('relu'))\n",
    "model.add(Dropout(0.5))\n",
    "model.add(Dense(num_classes))\n",
    "model.add(Activation('softmax'))\n",
    "\n",
    "model.compile(loss='categorical_crossentropy', optimizer='adam', metrics=['accuracy'])"
   ]
  },
  {
   "cell_type": "code",
   "execution_count": 5,
   "metadata": {
    "collapsed": false,
    "deletable": true,
    "editable": true
   },
   "outputs": [
    {
     "name": "stdout",
     "output_type": "stream",
     "text": [
      "Train on 60000 samples, validate on 10000 samples\n",
      "Epoch 1/100\n",
      "Epoch 00000: val_acc improved from -inf to 0.98000, saving model to mnist_cnn.hdf5\n",
      "6s - loss: 0.2856 - acc: 0.9132 - val_loss: 0.0613 - val_acc: 0.9800\n",
      "Epoch 2/100\n",
      "Epoch 00001: val_acc improved from 0.98000 to 0.98770, saving model to mnist_cnn.hdf5\n",
      "4s - loss: 0.1004 - acc: 0.9702 - val_loss: 0.0394 - val_acc: 0.9877\n",
      "Epoch 3/100\n",
      "Epoch 00002: val_acc improved from 0.98770 to 0.98850, saving model to mnist_cnn.hdf5\n",
      "4s - loss: 0.0734 - acc: 0.9775 - val_loss: 0.0353 - val_acc: 0.9885\n",
      "Epoch 4/100\n",
      "Epoch 00003: val_acc improved from 0.98850 to 0.98940, saving model to mnist_cnn.hdf5\n",
      "4s - loss: 0.0608 - acc: 0.9818 - val_loss: 0.0305 - val_acc: 0.9894\n",
      "Epoch 5/100\n",
      "Epoch 00004: val_acc improved from 0.98940 to 0.98990, saving model to mnist_cnn.hdf5\n",
      "4s - loss: 0.0535 - acc: 0.9837 - val_loss: 0.0325 - val_acc: 0.9899\n",
      "Epoch 6/100\n",
      "Epoch 00005: val_acc improved from 0.98990 to 0.99170, saving model to mnist_cnn.hdf5\n",
      "4s - loss: 0.0461 - acc: 0.9858 - val_loss: 0.0275 - val_acc: 0.9917\n",
      "Epoch 7/100\n",
      "Epoch 00006: val_acc did not improve\n",
      "4s - loss: 0.0424 - acc: 0.9870 - val_loss: 0.0320 - val_acc: 0.9914\n",
      "Epoch 8/100\n",
      "Epoch 00007: val_acc did not improve\n",
      "4s - loss: 0.0391 - acc: 0.9876 - val_loss: 0.0297 - val_acc: 0.9910\n",
      "Epoch 9/100\n",
      "Epoch 00008: val_acc did not improve\n",
      "4s - loss: 0.0350 - acc: 0.9887 - val_loss: 0.0276 - val_acc: 0.9916\n",
      "Epoch 10/100\n",
      "Epoch 00009: val_acc did not improve\n",
      "4s - loss: 0.0323 - acc: 0.9893 - val_loss: 0.0281 - val_acc: 0.9917\n",
      "Epoch 11/100\n",
      "Epoch 00010: val_acc did not improve\n",
      "4s - loss: 0.0304 - acc: 0.9903 - val_loss: 0.0289 - val_acc: 0.9915\n",
      "Epoch 12/100\n",
      "Epoch 00011: val_acc improved from 0.99170 to 0.99200, saving model to mnist_cnn.hdf5\n",
      "4s - loss: 0.0290 - acc: 0.9911 - val_loss: 0.0293 - val_acc: 0.9920\n",
      "Epoch 13/100\n",
      "Epoch 00012: val_acc improved from 0.99200 to 0.99290, saving model to mnist_cnn.hdf5\n",
      "4s - loss: 0.0274 - acc: 0.9912 - val_loss: 0.0237 - val_acc: 0.9929\n",
      "Epoch 14/100\n",
      "Epoch 00013: val_acc did not improve\n",
      "4s - loss: 0.0261 - acc: 0.9913 - val_loss: 0.0285 - val_acc: 0.9913\n",
      "Epoch 15/100\n",
      "Epoch 00014: val_acc did not improve\n",
      "4s - loss: 0.0227 - acc: 0.9927 - val_loss: 0.0288 - val_acc: 0.9922\n",
      "Epoch 16/100\n",
      "Epoch 00015: val_acc did not improve\n",
      "4s - loss: 0.0233 - acc: 0.9925 - val_loss: 0.0281 - val_acc: 0.9921\n",
      "Epoch 17/100\n",
      "Epoch 00016: val_acc did not improve\n",
      "4s - loss: 0.0214 - acc: 0.9930 - val_loss: 0.0343 - val_acc: 0.9912\n",
      "Epoch 18/100\n",
      "Epoch 00017: val_acc did not improve\n",
      "4s - loss: 0.0198 - acc: 0.9935 - val_loss: 0.0300 - val_acc: 0.9924\n",
      "Epoch 19/100\n",
      "Epoch 00018: val_acc did not improve\n",
      "4s - loss: 0.0192 - acc: 0.9936 - val_loss: 0.0299 - val_acc: 0.9924\n",
      "Epoch 00018: early stopping\n",
      "Test score: 0.0298652117307\n",
      "Test accuracy: 0.9924\n"
     ]
    }
   ],
   "source": [
    "# Model saving callback\n",
    "checkpointer = ModelCheckpoint(filepath=WEIGHTS_FILEPATH, monitor='val_acc', verbose=1, save_best_only=True)\n",
    "\n",
    "# Early stopping\n",
    "early_stopping = EarlyStopping(monitor='val_acc', verbose=1, patience=5)\n",
    "\n",
    "# Train\n",
    "batch_size = 128\n",
    "epochs = 100\n",
    "model.fit(x_train, y_train, batch_size=batch_size, epochs=epochs, verbose=2,\n",
    "          callbacks=[checkpointer, early_stopping], \n",
    "          validation_data=(x_test, y_test))\n",
    "score = model.evaluate(x_test, y_test, verbose=0)\n",
    "print('Test score:', score[0])\n",
    "print('Test accuracy:', score[1])"
   ]
  },
  {
   "cell_type": "code",
   "execution_count": 6,
   "metadata": {
    "collapsed": true,
    "deletable": true,
    "editable": true
   },
   "outputs": [],
   "source": [
    "with open(MODEL_ARCH_FILEPATH, 'w') as f:\n",
    "    f.write(model.to_json())"
   ]
  },
  {
   "cell_type": "code",
   "execution_count": null,
   "metadata": {
    "collapsed": true,
    "deletable": true,
    "editable": true
   },
   "outputs": [],
   "source": []
  }
 ],
 "metadata": {
  "anaconda-cloud": {},
  "kernelspec": {
   "display_name": "Python 3",
   "language": "python",
   "name": "python3"
  },
  "language_info": {
   "codemirror_mode": {
    "name": "ipython",
    "version": 3
   },
   "file_extension": ".py",
   "mimetype": "text/x-python",
   "name": "python",
   "nbconvert_exporter": "python",
   "pygments_lexer": "ipython3",
   "version": "3.5.3"
  }
 },
 "nbformat": 4,
 "nbformat_minor": 1
}
